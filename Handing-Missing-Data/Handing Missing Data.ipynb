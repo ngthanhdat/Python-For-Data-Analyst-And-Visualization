{
 "cells": [
  {
   "cell_type": "code",
   "execution_count": null,
   "metadata": {},
   "outputs": [],
   "source": [
    "import pandas as pd\n",
    "import numpy as np\n",
    "import re\n",
    "import math"
   ]
  },
  {
   "cell_type": "code",
   "execution_count": null,
   "metadata": {},
   "outputs": [],
   "source": [
    "# read file netflix_titles.csv\n",
    "\n",
    "data = pd.read_csv(\"netflix_titles.csv\")\n",
    "data"
   ]
  },
  {
   "cell_type": "code",
   "execution_count": null,
   "metadata": {},
   "outputs": [],
   "source": [
    "# data overview\n",
    "data.info()"
   ]
  },
  {
   "cell_type": "code",
   "execution_count": null,
   "metadata": {},
   "outputs": [],
   "source": [
    "# Count null in each column and sort decrease\n",
    "\n",
    "data.isnull().sum().sort_values(ascending = False)"
   ]
  },
  {
   "cell_type": "code",
   "execution_count": null,
   "metadata": {
    "scrolled": true
   },
   "outputs": [],
   "source": [
    "# % of row missing in each column\n",
    "\n",
    "for column in data.columns:\n",
    "    percent = data[column].isnull().mean()\n",
    "    print(f'{column}:{round(percent*100,2)}%')"
   ]
  },
  {
   "cell_type": "code",
   "execution_count": null,
   "metadata": {
    "scrolled": false
   },
   "outputs": [],
   "source": [
    "# handing missing value\n",
    "\n",
    "# 1. drop\n",
    "# drop column\n",
    "\n",
    "data.drop('director', axis = 1) # 1 - cloumn; 0 -  index; default  0\n",
    "\n",
    "# drop row\n",
    "data_new = data[data['director'].isnull()].index\n",
    "data.drop(data_new, axis = 0)\n",
    "\n",
    "# - isnull()\n",
    "\n",
    "data[-data['director'].isnull()]\n",
    "\n",
    "# dropna()\n",
    "\n",
    "data.dropna(subset=['director'])\n",
    "\n",
    "# 2. use median, mean (numeric data) or mode (categorical data)\n",
    "data[data['rating'].isnull()]\n",
    "mode = ''.join(data['rating'].mode())\n",
    "data['rating'].fillna(mode, inplace=True)\n",
    "\n",
    "# 3. replace with arbitrary number or text\n",
    "data['duration'].fillna(0, inplace=True)"
   ]
  },
  {
   "cell_type": "code",
   "execution_count": null,
   "metadata": {
    "scrolled": true
   },
   "outputs": [],
   "source": [
    "# inconsistent capitalization\n",
    "\n",
    "#data['title'] = data['title'].apply(lambda x: x.lower())\n",
    "data['title'] = data['title'].str.lower()\n",
    "\n",
    "# clean leading and trailing space\n",
    "\n",
    "#data['title'] = data['title'].apply(lambda x: x.strip())\n",
    "data['title'] = data['title'].str.strip()\n",
    "\n",
    "# remove punctation: clean characters other than words or spaces\n",
    "\n",
    "#data['title'] = data['title'].apply(lambda x: re.sub('[^\\w\\s]','',x))\n",
    "data['title'] = data['title'].replace('[^\\w\\s]','',regex=True,inplace=True)\n",
    "data.head()"
   ]
  },
  {
   "cell_type": "code",
   "execution_count": null,
   "metadata": {},
   "outputs": [],
   "source": []
  }
 ],
 "metadata": {
  "kernelspec": {
   "display_name": "Python 3",
   "language": "python",
   "name": "python3"
  },
  "language_info": {
   "codemirror_mode": {
    "name": "ipython",
    "version": 3
   },
   "file_extension": ".py",
   "mimetype": "text/x-python",
   "name": "python",
   "nbconvert_exporter": "python",
   "pygments_lexer": "ipython3",
   "version": "3.8.5"
  }
 },
 "nbformat": 4,
 "nbformat_minor": 4
}
